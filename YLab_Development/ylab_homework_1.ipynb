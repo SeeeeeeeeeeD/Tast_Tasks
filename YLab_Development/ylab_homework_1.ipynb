{
  "nbformat": 4,
  "nbformat_minor": 0,
  "metadata": {
    "colab": {
      "name": "ylab_homework-1.ipynb",
      "provenance": [],
      "collapsed_sections": []
    },
    "kernelspec": {
      "name": "python3",
      "display_name": "Python 3"
    },
    "language_info": {
      "name": "python"
    }
  },
  "cells": [
    {
      "cell_type": "markdown",
      "source": [
        "# Задача №1"
      ],
      "metadata": {
        "id": "uABP7G_JUB97"
      }
    },
    {
      "cell_type": "markdown",
      "source": [
        "Написать метод domain_name, который вернет домен из url адреса:\n",
        "\n",
        "url = \"http://github.com/carbonfive/raygun\" -> domain name = \"github\" \\\n",
        "url = \"http://www.zombie-bites.com\"         -> domain name = \"zombie-bites\" \\\n",
        "url = \"https://www.cnet.com\"                -> domain name = \"cnet\" \\"
      ],
      "metadata": {
        "id": "qbiRko7SSHHe"
      }
    },
    {
      "cell_type": "code",
      "source": [
        "def domain_name(url):\n",
        "  url_split = url.split(\"//\")\n",
        "  if len(url_split) < 2:\n",
        "    url_split = url.split(\".\")\n",
        "    return url_split[1]\n",
        "  else:\n",
        "    url_split = url_split[1]\n",
        "    url_split = url_split.split(\".\")\n",
        "    if url_split[0] == 'www':\n",
        "      return url_split[1]\n",
        "    else:\n",
        "      return url_split[0]"
      ],
      "metadata": {
        "id": "OjQzmP4Hw8nS"
      },
      "execution_count": null,
      "outputs": []
    },
    {
      "cell_type": "code",
      "source": [
        "assert domain_name(\"http://google.com\") == \"google\"\n",
        "assert domain_name(\"http://google.co.jp\") == \"google\"\n",
        "assert domain_name(\"www.xakep.ru\") == \"xakep\"\n",
        "assert domain_name(\"https://youtube.com\") == \"youtube\""
      ],
      "metadata": {
        "id": "-DPHVv3I5j4U"
      },
      "execution_count": null,
      "outputs": []
    },
    {
      "cell_type": "markdown",
      "source": [
        "# Задача №2"
      ],
      "metadata": {
        "id": "MD0GuazNWx64"
      }
    },
    {
      "cell_type": "markdown",
      "source": [
        "Написать метод int32_to_ip, который принимает на вход 32-битное целое число\n",
        "(integer) и возвращает строковое представление его в виде IPv4-адреса:\n",
        "\n",
        "2149583361 -> \"128.32.10.1\" \\\n",
        "32         -> \"0.0.0.32\" \\\n",
        "0          -> \"0.0.0.0\"\n"
      ],
      "metadata": {
        "id": "82mfeCBIW2W1"
      }
    },
    {
      "cell_type": "code",
      "source": [
        "def int32_to_ip(int32):\n",
        "  first = int32 // (256**3)\n",
        "  second = (int32 - first * (256**3)) // (256**2)\n",
        "  third = (int32 - first * (256**3) - second * (256**2)) // 256\n",
        "  fourth = int32 - first * (256**3) - second * (256**2) - third * 256\n",
        "  return f'{first}.{second}.{third}.{fourth}'\n"
      ],
      "metadata": {
        "id": "NZATSk4nW7Vm"
      },
      "execution_count": null,
      "outputs": []
    },
    {
      "cell_type": "code",
      "source": [
        "assert int32_to_ip(2154959208) == \"128.114.17.104\"\n",
        "assert int32_to_ip(0) == \"0.0.0.0\"\n",
        "assert int32_to_ip(2149583361) == \"128.32.10.1\""
      ],
      "metadata": {
        "id": "RkqoLJvuL4Pf"
      },
      "execution_count": null,
      "outputs": []
    },
    {
      "cell_type": "markdown",
      "source": [
        "# Задача №3"
      ],
      "metadata": {
        "id": "E2DUlJ7fMajF"
      }
    },
    {
      "cell_type": "markdown",
      "source": [
        "Написать метод zeros, который принимает на вход целое число (integer) и\n",
        "возвращает количество конечных нулей в факториале (N! = 1 * 2 * 3 * ... * N) заданного числа:\n",
        "\n",
        "Будьте осторожны 1000! имеет 2568 цифр.\n",
        "\n",
        "Доп. инфо: http://mathworld.wolfram.com/Factorial.html\n",
        "\n",
        "zeros(6) = 1 \\\n",
        "6! = 1 * 2 * 3 * 4 * 5 * 6 = 720 --> 1 trailing zero\n",
        "\n",
        "zeros(12) = 2 \\\n",
        "12! = 479001600 --> 2 trailing zeros\n"
      ],
      "metadata": {
        "id": "uYLoA-o5N7rV"
      }
    },
    {
      "cell_type": "code",
      "source": [
        "def zeros(n):\n",
        "  count = 0\n",
        "  i = 5\n",
        "  while (n/i>=1):\n",
        "    count += int(n/i)\n",
        "    i = i*5\n",
        "  return int(count)"
      ],
      "metadata": {
        "id": "F-OlMHaqUCmy"
      },
      "execution_count": null,
      "outputs": []
    },
    {
      "cell_type": "code",
      "source": [
        "assert zeros(0) == 0\n",
        "assert zeros(6) == 1\n",
        "assert zeros(30) == 7"
      ],
      "metadata": {
        "id": "AALqMBjOa9de"
      },
      "execution_count": null,
      "outputs": []
    },
    {
      "cell_type": "markdown",
      "source": [
        "# Задача №4"
      ],
      "metadata": {
        "id": "nsK_rdNdcJSm"
      }
    },
    {
      "cell_type": "markdown",
      "source": [
        "Написать метод bananas, который принимает на вход строку и\n",
        "возвращает количество слов «banana» в строке.\n",
        "\n",
        "(Используйте - для обозначения зачеркнутой буквы)\n",
        "\n",
        "Input: bbananana\n",
        "\n",
        "b-anana-- \\\n",
        "b-anan--a \\\n",
        "b-ana--na \\\n",
        "b-an--ana \\\n",
        "b-a--nana \\\n",
        "b---anana \\\n",
        "-banana-- \\\n",
        "-banan--a \\\n",
        "-bana--na \\\n",
        "-ban--ana \\\n",
        "-ba--nana \\\n",
        "-b--anana \n"
      ],
      "metadata": {
        "id": "Z7Aym7dPgonp"
      }
    },
    {
      "cell_type": "code",
      "source": [
        "from itertools import combinations\n",
        "\n",
        "def bananas(s) -> set:\n",
        "  result = set()\n",
        "  word = 'banana'\n",
        "  for combination in combinations(enumerate(s), len(word)):\n",
        "    word_final = ['-' for _ in range(len(s))]\n",
        "    n = 0\n",
        "    for m, letter in combination:\n",
        "      if letter == word[n]:\n",
        "        word_final[m] = letter\n",
        "        n = n + 1\n",
        "      else:\n",
        "        break\n",
        "    if n == len(word):\n",
        "      result.add(''.join(word_final))\n",
        "  return result"
      ],
      "metadata": {
        "id": "bjvFmhtyFyS4"
      },
      "execution_count": 24,
      "outputs": []
    },
    {
      "cell_type": "code",
      "source": [
        "assert bananas(\"banann\") == set()\n",
        "assert bananas(\"banana\") == {\"banana\"}\n",
        "assert bananas(\"bbananana\") == {\"b-an--ana\", \"-banana--\", \"-b--anana\", \"b-a--nana\", \"-banan--a\",\n",
        "                     \"b-ana--na\", \"b---anana\", \"-bana--na\", \"-ba--nana\", \"b-anan--a\",\n",
        "                     \"-ban--ana\", \"b-anana--\"}\n",
        "assert bananas(\"bananaaa\") == {\"banan-a-\", \"banana--\", \"banan--a\"}\n",
        "assert bananas(\"bananana\") == {\"ban--ana\", \"ba--nana\", \"bana--na\", \"b--anana\", \"banana--\", \"banan--a\"}"
      ],
      "metadata": {
        "id": "lCM53BljJv6j"
      },
      "execution_count": 25,
      "outputs": []
    },
    {
      "cell_type": "markdown",
      "source": [
        "# Задача №5"
      ],
      "metadata": {
        "id": "0oDU9kgkEGWJ"
      }
    },
    {
      "cell_type": "markdown",
      "source": [
        "Написать метод count_find_num, который принимает на вход список простых множителей (primesL) и целое число,\n",
        "предел (limit), после чего попробуйте сгенерировать по порядку все числа.\n",
        "Меньшие значения предела, которые имеют все и только простые множители простых чисел primesL"
      ],
      "metadata": {
        "id": "iMZNUg74MYDx"
      }
    },
    {
      "cell_type": "markdown",
      "source": [
        "primesL = [2, 5, 7] \\\n",
        "limit = 500 \\\n",
        "List of Numbers Under 500    |      Prime Factorization\n",
        "___________________________________________________________\n",
        "           70                         [2, 5, 7]\n",
        "          140                         [2, 2, 5, 7]\n",
        "          280                         [2, 2, 2, 5, 7]\n",
        "          350                         [2, 5, 5, 7]\n",
        "          490                         [2, 5, 7, 7]\n"
      ],
      "metadata": {
        "id": "oO2_J7edQkAj"
      }
    },
    {
      "cell_type": "markdown",
      "source": [
        "primesL = [2, 5, 7] \\\n",
        "limit = 500 \\\n",
        "count_find_num(primesL, val) == [5, 490]\n"
      ],
      "metadata": {
        "id": "oGsxTzFHSMsO"
      }
    },
    {
      "cell_type": "code",
      "source": [
        "from functools import reduce\n",
        "\n",
        "def count_find_num(primesL, limit):\n",
        "  if reduce(lambda x, y: x*y, primesL) > limit:\n",
        "    return []\n",
        "  numbers = list()\n",
        "  numbers.append(reduce(lambda x, y: x*y, primesL))\n",
        "  for i in primesL:\n",
        "    for j in numbers:\n",
        "      j = j*i\n",
        "      if j <= limit and j not in numbers: \n",
        "        numbers.append(j)\n",
        "      else:\n",
        "        continue\n",
        "  return [len(numbers), max(numbers)]"
      ],
      "metadata": {
        "id": "SGPdxAlbboFH"
      },
      "execution_count": 29,
      "outputs": []
    },
    {
      "cell_type": "code",
      "source": [
        "primesL = [2, 3]\n",
        "limit = 200\n",
        "assert count_find_num(primesL, limit) == [13, 192]\n",
        "\n",
        "primesL = [2, 5]\n",
        "limit = 200\n",
        "assert count_find_num(primesL, limit) == [8, 200]\n",
        "\n",
        "primesL = [2, 3, 5]\n",
        "limit = 500\n",
        "assert count_find_num(primesL, limit) == [12, 480]\n",
        "\n",
        "primesL = [2, 3, 5]\n",
        "limit = 1000\n",
        "assert count_find_num(primesL, limit) == [19, 960]\n",
        "\n",
        "primesL = [2, 3, 47]\n",
        "limit = 200\n",
        "assert count_find_num(primesL, limit) == []\n"
      ],
      "metadata": {
        "id": "PgZwdn98U7oo"
      },
      "execution_count": 30,
      "outputs": []
    }
  ]
}
{
  "nbformat": 4,
  "nbformat_minor": 0,
  "metadata": {
    "colab": {
      "name": "ylab_homework_2.ipynb",
      "provenance": [],
      "collapsed_sections": []
    },
    "kernelspec": {
      "name": "python3",
      "display_name": "Python 3"
    },
    "language_info": {
      "name": "python"
    }
  },
  "cells": [
    {
      "cell_type": "markdown",
      "source": [
        "# Задача"
      ],
      "metadata": {
        "id": "2anQiN9JWH1G"
      }
    },
    {
      "cell_type": "markdown",
      "source": [
        "Разработать программу для вычисления кратчайшего пути для почтальона.\n",
        "\n",
        "**Описание задачи**\n",
        "\n",
        "Почтальон выходит из почтового отделения, объезжает всех адресатов один раз для вручения посылки и возвращается в почтовое отделение. Необходимо найти кратчайший маршрут для почтальона.\n",
        "\n",
        "*Координаты точек:*\n",
        "\n",
        "1. Почтовое отделение – (0, 2)\n",
        "2. Ул. Грибоедова, 104/25 – (2, 5)\n",
        "3. Ул. Бейкер стрит, 221б – (5, 2)\n",
        "4. Ул. Большая Садовая, 302-бис – (6, 6)\n",
        "5. Вечнозелёная Аллея, 742 – (8, 3)\n",
        "\n",
        "**Решение**"
      ],
      "metadata": {
        "id": "3ph5uHDUWMzj"
      }
    },
    {
      "cell_type": "code",
      "source": [
        "pip install python-tsp --quiet"
      ],
      "metadata": {
        "id": "WtdhS1HPX6tt"
      },
      "execution_count": 49,
      "outputs": []
    },
    {
      "cell_type": "code",
      "execution_count": 50,
      "metadata": {
        "id": "GaxInM1LV9rm"
      },
      "outputs": [],
      "source": [
        "import pandas as pd\n",
        "import numpy as np\n",
        "from python_tsp.exact import solve_tsp_dynamic_programming\n",
        "from scipy.spatial import distance"
      ]
    },
    {
      "cell_type": "code",
      "source": [
        "point_1 = (0, 2)  # координаты первой точки\n",
        "point_2 = (2, 5)  # координаты второй точки\n",
        "point_3 = (5, 2)  # координаты третьей точки\n",
        "point_4 = (6, 6)  # координаты четвертой точки\n",
        "point_5 = (8, 3)  # координаты пятой точки"
      ],
      "metadata": {
        "id": "0I3Ep71adCzo"
      },
      "execution_count": 88,
      "outputs": []
    },
    {
      "cell_type": "code",
      "source": [
        "x_axis = []\n",
        "y_axis = []\n",
        "for var in [value for key, value in locals().items() if key.startswith('point_')]:\n",
        "  x_axis.append(var[0])\n",
        "  y_axis.append(var[1])\n",
        "vectors = pd.DataFrame({'x_coordinates_km': x_axis, 'y_coordinates_km': y_axis}).values\n",
        "vectors"
      ],
      "metadata": {
        "colab": {
          "base_uri": "https://localhost:8080/"
        },
        "id": "n3JsulUVNn4D",
        "outputId": "82b28d9c-15a8-4cfd-e5ea-e5255f64dc92"
      },
      "execution_count": 89,
      "outputs": [
        {
          "output_type": "execute_result",
          "data": {
            "text/plain": [
              "array([[0, 2],\n",
              "       [2, 5],\n",
              "       [5, 2],\n",
              "       [6, 6],\n",
              "       [8, 3]])"
            ]
          },
          "metadata": {},
          "execution_count": 89
        }
      ]
    },
    {
      "cell_type": "code",
      "source": [
        "length = []\n",
        "for pnt_from in range(len(x_axis)):\n",
        "    row = []\n",
        "    for pnt_to in range(len(x_axis)):\n",
        "        value = distance.euclidean(vectors[pnt_from], vectors[pnt_to])\n",
        "        row.append(value)\n",
        "    length.append(row)"
      ],
      "metadata": {
        "id": "U4zg4XMwougS"
      },
      "execution_count": 90,
      "outputs": []
    },
    {
      "cell_type": "code",
      "source": [
        "distance_matrix = np.array(length)\n",
        "distance_matrix"
      ],
      "metadata": {
        "colab": {
          "base_uri": "https://localhost:8080/"
        },
        "id": "TYUi96UJcS11",
        "outputId": "b889a81e-2462-45fc-8fc1-e102a9f2a195"
      },
      "execution_count": 91,
      "outputs": [
        {
          "output_type": "execute_result",
          "data": {
            "text/plain": [
              "array([[0.        , 3.60555128, 5.        , 7.21110255, 8.06225775],\n",
              "       [3.60555128, 0.        , 4.24264069, 4.12310563, 6.32455532],\n",
              "       [5.        , 4.24264069, 0.        , 4.12310563, 3.16227766],\n",
              "       [7.21110255, 4.12310563, 4.12310563, 0.        , 3.60555128],\n",
              "       [8.06225775, 6.32455532, 3.16227766, 3.60555128, 0.        ]])"
            ]
          },
          "metadata": {},
          "execution_count": 91
        }
      ]
    },
    {
      "cell_type": "code",
      "source": [
        "path, length = solve_tsp_dynamic_programming(distance_matrix)\n",
        "print(path, length)"
      ],
      "metadata": {
        "colab": {
          "base_uri": "https://localhost:8080/"
        },
        "id": "DwlP9VWrbxjm",
        "outputId": "585014e3-3681-42de-e69f-d0af4b243217"
      },
      "execution_count": 92,
      "outputs": [
        {
          "output_type": "stream",
          "name": "stdout",
          "text": [
            "[0, 1, 3, 4, 2] 19.49648583671402\n"
          ]
        }
      ]
    },
    {
      "cell_type": "code",
      "source": [
        "print('Кратчайший путь почтальона:')\n",
        "value = 0\n",
        "for j in range(len(path)+1):\n",
        "  if j == 0:\n",
        "    print(tuple(vectors[path[j]]), end =' -> ')\n",
        "  elif 0 < j < (len(path)):\n",
        "    value += distance.euclidean(tuple(vectors[path[j-1]]), tuple(vectors[path[j]]))\n",
        "    print(tuple(vectors[path[j]]), value,  end =' -> ')\n",
        "  elif j == (len(path)):\n",
        "    value += distance.euclidean(tuple(vectors[path[j-1]]), tuple(vectors[path[0]]))\n",
        "    print(tuple(vectors[path[0]]), value, '\\n')\n",
        "\n",
        "print('Полная продолжительность всего маршрута:\\n', length)"
      ],
      "metadata": {
        "id": "tWqRR9xNkRVV",
        "colab": {
          "base_uri": "https://localhost:8080/"
        },
        "outputId": "1b2c50b0-b057-4f2f-8cf4-ea197ec0ae5a"
      },
      "execution_count": 93,
      "outputs": [
        {
          "output_type": "stream",
          "name": "stdout",
          "text": [
            "Кратчайший путь почтальона:\n",
            "(0, 2) -> (2, 5) 3.605551275463989 -> (6, 6) 7.728656901081649 -> (8, 3) 11.334208176545639 -> (5, 2) 14.496485836714019 -> (0, 2) 19.49648583671402 \n",
            "\n",
            "Полная продолжительность всего маршрута:\n",
            " 19.49648583671402\n"
          ]
        }
      ]
    }
  ]
}
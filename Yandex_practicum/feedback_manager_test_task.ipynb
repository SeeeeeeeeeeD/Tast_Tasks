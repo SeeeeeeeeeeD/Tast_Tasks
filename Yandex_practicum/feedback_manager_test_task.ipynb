{
  "nbformat": 4,
  "nbformat_minor": 0,
  "metadata": {
    "colab": {
      "name": "feedback_manager_test_task.ipynb",
      "provenance": [],
      "collapsed_sections": []
    },
    "kernelspec": {
      "name": "python3",
      "display_name": "Python 3"
    },
    "language_info": {
      "name": "python"
    }
  },
  "cells": [
    {
      "cell_type": "markdown",
      "source": [
        "##Тестовое задание 2\n"
      ],
      "metadata": {
        "id": "eF4aQOlbBXc9"
      }
    },
    {
      "cell_type": "code",
      "execution_count": 99,
      "metadata": {
        "id": "IfFHMtjy-9L3"
      },
      "outputs": [],
      "source": [
        "import pandas as pd\n",
        "import matplotlib.pyplot as plt\n",
        "import seaborn as sns"
      ]
    },
    {
      "cell_type": "code",
      "source": [
        "df = pd.read_csv('/content/drive/MyDrive/Feedback_Manager_test_data.csv')"
      ],
      "metadata": {
        "id": "6D2_ggK9AHFc"
      },
      "execution_count": 100,
      "outputs": []
    },
    {
      "cell_type": "markdown",
      "source": [
        "## 1. Познакомимся с данными"
      ],
      "metadata": {
        "id": "PCvE4MFzNDJT"
      }
    },
    {
      "cell_type": "code",
      "source": [
        "df.head()"
      ],
      "metadata": {
        "colab": {
          "base_uri": "https://localhost:8080/",
          "height": 337
        },
        "id": "raILYY1IAPnm",
        "outputId": "06cff981-3912-4ce6-a509-66cad837bd27"
      },
      "execution_count": 101,
      "outputs": [
        {
          "output_type": "execute_result",
          "data": {
            "text/plain": [
              "  answer_date  group                           profession  \\\n",
              "0  08.12.2011      1              Тестировщик острых блюд   \n",
              "1  06.12.2011      1              Тестировщик острых блюд   \n",
              "2  15.12.2011      5  Инженер по созданию синхрофазотрона   \n",
              "3  16.12.2011      2              Тестировщик острых блюд   \n",
              "4  08.12.2011      1              Тестировщик острых блюд   \n",
              "\n",
              "                                           question  \\\n",
              "0  Оцените, насколько вам понравился урок от 1 до 5   \n",
              "1  Оцените, насколько вам понравился урок от 1 до 5   \n",
              "2          Здесь вы можете оставить подробный отзыв   \n",
              "3  Оцените, насколько вам понравился урок от 1 до 5   \n",
              "4  Оцените, насколько вам понравился урок от 1 до 5   \n",
              "\n",
              "                                              answer                  topic  \n",
              "0                                                  4  100 видов перцов чили  \n",
              "1                                                  5  100 видов перцов чили  \n",
              "2  Долго не понимал, как же правильно. В итоге те...         СинхрофазаЧТО?  \n",
              "3                                                  5  100 видов перцов чили  \n",
              "4                                                  5  100 видов перцов чили  "
            ],
            "text/html": [
              "\n",
              "  <div id=\"df-50a078b3-e8e1-4071-b231-f76f7c774377\">\n",
              "    <div class=\"colab-df-container\">\n",
              "      <div>\n",
              "<style scoped>\n",
              "    .dataframe tbody tr th:only-of-type {\n",
              "        vertical-align: middle;\n",
              "    }\n",
              "\n",
              "    .dataframe tbody tr th {\n",
              "        vertical-align: top;\n",
              "    }\n",
              "\n",
              "    .dataframe thead th {\n",
              "        text-align: right;\n",
              "    }\n",
              "</style>\n",
              "<table border=\"1\" class=\"dataframe\">\n",
              "  <thead>\n",
              "    <tr style=\"text-align: right;\">\n",
              "      <th></th>\n",
              "      <th>answer_date</th>\n",
              "      <th>group</th>\n",
              "      <th>profession</th>\n",
              "      <th>question</th>\n",
              "      <th>answer</th>\n",
              "      <th>topic</th>\n",
              "    </tr>\n",
              "  </thead>\n",
              "  <tbody>\n",
              "    <tr>\n",
              "      <th>0</th>\n",
              "      <td>08.12.2011</td>\n",
              "      <td>1</td>\n",
              "      <td>Тестировщик острых блюд</td>\n",
              "      <td>Оцените, насколько вам понравился урок от 1 до 5</td>\n",
              "      <td>4</td>\n",
              "      <td>100 видов перцов чили</td>\n",
              "    </tr>\n",
              "    <tr>\n",
              "      <th>1</th>\n",
              "      <td>06.12.2011</td>\n",
              "      <td>1</td>\n",
              "      <td>Тестировщик острых блюд</td>\n",
              "      <td>Оцените, насколько вам понравился урок от 1 до 5</td>\n",
              "      <td>5</td>\n",
              "      <td>100 видов перцов чили</td>\n",
              "    </tr>\n",
              "    <tr>\n",
              "      <th>2</th>\n",
              "      <td>15.12.2011</td>\n",
              "      <td>5</td>\n",
              "      <td>Инженер по созданию синхрофазотрона</td>\n",
              "      <td>Здесь вы можете оставить подробный отзыв</td>\n",
              "      <td>Долго не понимал, как же правильно. В итоге те...</td>\n",
              "      <td>СинхрофазаЧТО?</td>\n",
              "    </tr>\n",
              "    <tr>\n",
              "      <th>3</th>\n",
              "      <td>16.12.2011</td>\n",
              "      <td>2</td>\n",
              "      <td>Тестировщик острых блюд</td>\n",
              "      <td>Оцените, насколько вам понравился урок от 1 до 5</td>\n",
              "      <td>5</td>\n",
              "      <td>100 видов перцов чили</td>\n",
              "    </tr>\n",
              "    <tr>\n",
              "      <th>4</th>\n",
              "      <td>08.12.2011</td>\n",
              "      <td>1</td>\n",
              "      <td>Тестировщик острых блюд</td>\n",
              "      <td>Оцените, насколько вам понравился урок от 1 до 5</td>\n",
              "      <td>5</td>\n",
              "      <td>100 видов перцов чили</td>\n",
              "    </tr>\n",
              "  </tbody>\n",
              "</table>\n",
              "</div>\n",
              "      <button class=\"colab-df-convert\" onclick=\"convertToInteractive('df-50a078b3-e8e1-4071-b231-f76f7c774377')\"\n",
              "              title=\"Convert this dataframe to an interactive table.\"\n",
              "              style=\"display:none;\">\n",
              "        \n",
              "  <svg xmlns=\"http://www.w3.org/2000/svg\" height=\"24px\"viewBox=\"0 0 24 24\"\n",
              "       width=\"24px\">\n",
              "    <path d=\"M0 0h24v24H0V0z\" fill=\"none\"/>\n",
              "    <path d=\"M18.56 5.44l.94 2.06.94-2.06 2.06-.94-2.06-.94-.94-2.06-.94 2.06-2.06.94zm-11 1L8.5 8.5l.94-2.06 2.06-.94-2.06-.94L8.5 2.5l-.94 2.06-2.06.94zm10 10l.94 2.06.94-2.06 2.06-.94-2.06-.94-.94-2.06-.94 2.06-2.06.94z\"/><path d=\"M17.41 7.96l-1.37-1.37c-.4-.4-.92-.59-1.43-.59-.52 0-1.04.2-1.43.59L10.3 9.45l-7.72 7.72c-.78.78-.78 2.05 0 2.83L4 21.41c.39.39.9.59 1.41.59.51 0 1.02-.2 1.41-.59l7.78-7.78 2.81-2.81c.8-.78.8-2.07 0-2.86zM5.41 20L4 18.59l7.72-7.72 1.47 1.35L5.41 20z\"/>\n",
              "  </svg>\n",
              "      </button>\n",
              "      \n",
              "  <style>\n",
              "    .colab-df-container {\n",
              "      display:flex;\n",
              "      flex-wrap:wrap;\n",
              "      gap: 12px;\n",
              "    }\n",
              "\n",
              "    .colab-df-convert {\n",
              "      background-color: #E8F0FE;\n",
              "      border: none;\n",
              "      border-radius: 50%;\n",
              "      cursor: pointer;\n",
              "      display: none;\n",
              "      fill: #1967D2;\n",
              "      height: 32px;\n",
              "      padding: 0 0 0 0;\n",
              "      width: 32px;\n",
              "    }\n",
              "\n",
              "    .colab-df-convert:hover {\n",
              "      background-color: #E2EBFA;\n",
              "      box-shadow: 0px 1px 2px rgba(60, 64, 67, 0.3), 0px 1px 3px 1px rgba(60, 64, 67, 0.15);\n",
              "      fill: #174EA6;\n",
              "    }\n",
              "\n",
              "    [theme=dark] .colab-df-convert {\n",
              "      background-color: #3B4455;\n",
              "      fill: #D2E3FC;\n",
              "    }\n",
              "\n",
              "    [theme=dark] .colab-df-convert:hover {\n",
              "      background-color: #434B5C;\n",
              "      box-shadow: 0px 1px 3px 1px rgba(0, 0, 0, 0.15);\n",
              "      filter: drop-shadow(0px 1px 2px rgba(0, 0, 0, 0.3));\n",
              "      fill: #FFFFFF;\n",
              "    }\n",
              "  </style>\n",
              "\n",
              "      <script>\n",
              "        const buttonEl =\n",
              "          document.querySelector('#df-50a078b3-e8e1-4071-b231-f76f7c774377 button.colab-df-convert');\n",
              "        buttonEl.style.display =\n",
              "          google.colab.kernel.accessAllowed ? 'block' : 'none';\n",
              "\n",
              "        async function convertToInteractive(key) {\n",
              "          const element = document.querySelector('#df-50a078b3-e8e1-4071-b231-f76f7c774377');\n",
              "          const dataTable =\n",
              "            await google.colab.kernel.invokeFunction('convertToInteractive',\n",
              "                                                     [key], {});\n",
              "          if (!dataTable) return;\n",
              "\n",
              "          const docLinkHtml = 'Like what you see? Visit the ' +\n",
              "            '<a target=\"_blank\" href=https://colab.research.google.com/notebooks/data_table.ipynb>data table notebook</a>'\n",
              "            + ' to learn more about interactive tables.';\n",
              "          element.innerHTML = '';\n",
              "          dataTable['output_type'] = 'display_data';\n",
              "          await google.colab.output.renderOutput(dataTable, element);\n",
              "          const docLink = document.createElement('div');\n",
              "          docLink.innerHTML = docLinkHtml;\n",
              "          element.appendChild(docLink);\n",
              "        }\n",
              "      </script>\n",
              "    </div>\n",
              "  </div>\n",
              "  "
            ]
          },
          "metadata": {},
          "execution_count": 101
        }
      ]
    },
    {
      "cell_type": "code",
      "source": [
        "df.info()"
      ],
      "metadata": {
        "colab": {
          "base_uri": "https://localhost:8080/"
        },
        "id": "CMvGAYdlB_fD",
        "outputId": "41ce3082-1516-480b-b892-6af8e38a7d93"
      },
      "execution_count": 102,
      "outputs": [
        {
          "output_type": "stream",
          "name": "stdout",
          "text": [
            "<class 'pandas.core.frame.DataFrame'>\n",
            "RangeIndex: 100 entries, 0 to 99\n",
            "Data columns (total 6 columns):\n",
            " #   Column       Non-Null Count  Dtype \n",
            "---  ------       --------------  ----- \n",
            " 0   answer_date  100 non-null    object\n",
            " 1   group        100 non-null    int64 \n",
            " 2   profession   100 non-null    object\n",
            " 3   question     100 non-null    object\n",
            " 4   answer       100 non-null    object\n",
            " 5   topic        100 non-null    object\n",
            "dtypes: int64(1), object(5)\n",
            "memory usage: 4.8+ KB\n"
          ]
        }
      ]
    },
    {
      "cell_type": "code",
      "source": [
        "df.answer_date.min(), df.answer_date.max()"
      ],
      "metadata": {
        "colab": {
          "base_uri": "https://localhost:8080/"
        },
        "id": "C05BhWpnCARf",
        "outputId": "f6b94c05-f03d-4e50-8fb1-22d8102de5d8"
      },
      "execution_count": 103,
      "outputs": [
        {
          "output_type": "execute_result",
          "data": {
            "text/plain": [
              "('02.12.2011', '22.12.2011')"
            ]
          },
          "metadata": {},
          "execution_count": 103
        }
      ]
    },
    {
      "cell_type": "markdown",
      "source": [
        "Данные предоставленны со 2 по 22 декабря 2011 гг. Пропуски в данных отсутствуют. На дубликаты смотреть нет смысла, так как ответы могут повторяться у разных людей. Идём дальше."
      ],
      "metadata": {
        "id": "pc-o3_6oD4BT"
      }
    },
    {
      "cell_type": "code",
      "source": [
        "df['group'].value_counts().sort_index()"
      ],
      "metadata": {
        "colab": {
          "base_uri": "https://localhost:8080/"
        },
        "id": "aLOY0cmXD0_j",
        "outputId": "148f7801-74ae-4c81-af00-49c46c461b4e"
      },
      "execution_count": 104,
      "outputs": [
        {
          "output_type": "execute_result",
          "data": {
            "text/plain": [
              "1    20\n",
              "2    22\n",
              "3    19\n",
              "4    15\n",
              "5    24\n",
              "Name: group, dtype: int64"
            ]
          },
          "metadata": {},
          "execution_count": 104
        }
      ]
    },
    {
      "cell_type": "markdown",
      "source": [
        "В опросе принимало участие 5 групп. Состав групп от 15 до 24 человек."
      ],
      "metadata": {
        "id": "JthkL9fTKVNj"
      }
    },
    {
      "cell_type": "code",
      "source": [
        "df['profession'].value_counts(ascending = False)"
      ],
      "metadata": {
        "colab": {
          "base_uri": "https://localhost:8080/"
        },
        "id": "XIDNYJjRFAAm",
        "outputId": "3a077871-7998-49c2-ea59-380c8610d960"
      },
      "execution_count": 105,
      "outputs": [
        {
          "output_type": "execute_result",
          "data": {
            "text/plain": [
              "Тестировщик острых блюд                61\n",
              "Инженер по созданию синхрофазотрона    39\n",
              "Name: profession, dtype: int64"
            ]
          },
          "metadata": {},
          "execution_count": 105
        }
      ]
    },
    {
      "cell_type": "markdown",
      "source": [
        "Профессий всего две. При этом тестировщиков почти в 2 раза больше."
      ],
      "metadata": {
        "id": "V8_mKEiMK2-y"
      }
    },
    {
      "cell_type": "code",
      "source": [
        "df['question'].value_counts(ascending = False)"
      ],
      "metadata": {
        "colab": {
          "base_uri": "https://localhost:8080/"
        },
        "id": "mgF9WSRVGQNe",
        "outputId": "d81324e8-a4ee-46c7-acd9-17bbc73eeb8d"
      },
      "execution_count": 106,
      "outputs": [
        {
          "output_type": "execute_result",
          "data": {
            "text/plain": [
              "Оцените, насколько вам понравился урок от 1 до 5    50\n",
              "Здесь вы можете оставить подробный отзыв            50\n",
              "Name: question, dtype: int64"
            ]
          },
          "metadata": {},
          "execution_count": 106
        }
      ]
    },
    {
      "cell_type": "markdown",
      "source": [
        "Задавались 2 вопроса: оценить и оставить отзыв."
      ],
      "metadata": {
        "id": "jH50Q5X1LhN6"
      }
    },
    {
      "cell_type": "code",
      "source": [
        "df['topic'].value_counts(ascending = False)"
      ],
      "metadata": {
        "colab": {
          "base_uri": "https://localhost:8080/"
        },
        "id": "Nt36BnunLWHp",
        "outputId": "f9129e20-ab98-4167-d5fe-48bd259a298c"
      },
      "execution_count": 107,
      "outputs": [
        {
          "output_type": "execute_result",
          "data": {
            "text/plain": [
              "100 видов перцов чили                                               34\n",
              "Считаем сковилли вместе                                             27\n",
              "Билет номер семь. Первый вопрос. Принцип работы синхрофазотрона.    22\n",
              "СинхрофазаЧТО?                                                      17\n",
              "Name: topic, dtype: int64"
            ]
          },
          "metadata": {},
          "execution_count": 107
        }
      ]
    },
    {
      "cell_type": "markdown",
      "source": [
        "Было четыре темы урока"
      ],
      "metadata": {
        "id": "LkmZXH7jMe85"
      }
    },
    {
      "cell_type": "markdown",
      "source": [
        "## 2. Проанализируем обратную связь от студентов"
      ],
      "metadata": {
        "id": "s6S7DhXsNM5y"
      }
    },
    {
      "cell_type": "markdown",
      "source": [
        "### 2.1. Тема урока: '**100** видов перцов чили' \n",
        "(Курс \"Тестировщик острых блюд\")"
      ],
      "metadata": {
        "id": "8ffBX1otRQYt"
      }
    },
    {
      "cell_type": "code",
      "source": [
        "chili_score = df[(df['topic'] == '100 видов перцов чили') & (df['question'] == 'Оцените, насколько вам понравился урок от 1 до 5')]"
      ],
      "metadata": {
        "id": "zlpVXaB0L_QE"
      },
      "execution_count": 108,
      "outputs": []
    },
    {
      "cell_type": "code",
      "source": [
        "chili_score['answer'].value_counts().plot(x='answer', kind='bar', figsize=(10,4))\n",
        "sns.set_style(\"darkgrid\")\n",
        "plt.style.use('dark_background')\n",
        "plt.title('Оценка урока \"100 видов перцов чили\"\\n', fontsize=15)\n",
        "plt.legend(['Кол-во оценок'],loc='upper right')\n",
        "plt.xticks(rotation = 0)\n",
        "plt.show()"
      ],
      "metadata": {
        "colab": {
          "base_uri": "https://localhost:8080/",
          "height": 301
        },
        "id": "lt8suUpgRr38",
        "outputId": "241eee0c-b5b5-4c67-cd04-4ad7ac2d5837"
      },
      "execution_count": 109,
      "outputs": [
        {
          "output_type": "display_data",
          "data": {
            "text/plain": [
              "<Figure size 720x288 with 1 Axes>"
            ],
            "image/png": "[encoded data removed]"
          },
          "metadata": {}
        }
      ]
    },
    {
      "cell_type": "markdown",
      "source": [
        "Абсолютному большинству урок '100 видов перцов чили' понравился. Только единицы поставили плохие оценки."
      ],
      "metadata": {
        "id": "mBFeSla4Tvw0"
      }
    },
    {
      "cell_type": "code",
      "source": [
        "chili_feedback = df[(df['topic'] == '100 видов перцов чили') & (df['question'] == 'Здесь вы можете оставить подробный отзыв')]"
      ],
      "metadata": {
        "id": "0oNFXE3RNznF"
      },
      "execution_count": 110,
      "outputs": []
    },
    {
      "cell_type": "code",
      "source": [
        "chili_feedback['answer'].values"
      ],
      "metadata": {
        "colab": {
          "base_uri": "https://localhost:8080/"
        },
        "id": "4Mj7ZATGU7aH",
        "outputId": "2deb55d8-0cb7-4c80-8f39-2a0fcb9c25cc"
      },
      "execution_count": 111,
      "outputs": [
        {
          "output_type": "execute_result",
          "data": {
            "text/plain": [
              "array(['Показали только 98…',\n",
              "       'Вау, я думал, их только 76! Очень интересно!',\n",
              "       'Долго не мог решить 3-ую задачу про халапеньо. Оказалось, у вас опечатка в задании. Посмотрите, пожалуйста. В остальном все супер.',\n",
              "       'Все супер топ! :)',\n",
              "       'Круто вы таблицу сделали! И про виды мексиканских перцев просто вау…',\n",
              "       '0/10 этому уроку, неприменимые на практике знания, да еще и никак не связаны с реальной жизнью - желтый переце чили явно вкуснее зеленого!!!!',\n",
              "       'я картофель', 'То, ради чего я купил курс! Супер урок!',\n",
              "       'Все понравилось',\n",
              "       'Мне ничего не понравилось, но что именно, мне не понравилось, я не понял - прошу передать мой фидбэк!',\n",
              "       'Тренажер работает очень быстро! ', 'Нет слов',\n",
              "       'Дочитал только до 71-ого, скучно…',\n",
              "       'Добавьте, пожалуйста, в конце теоретической части про веганский перец! ',\n",
              "       'Я бы хотел примерно еще 41 похожий урок, добавьте в ближайшую неделю, пожалуйста, понравилось'],\n",
              "      dtype=object)"
            ]
          },
          "metadata": {},
          "execution_count": 111
        }
      ]
    },
    {
      "cell_type": "markdown",
      "source": [
        "### Вывод по уроку:\n",
        "\n",
        "1. Урок называется 100 видов перцов чили, а показали только 98. Куда делись ещё два вида? А может быть студент просто не правильно посчитал?\n",
        "2. В 3-ей задаче про халапенью нужно исправить опечатку.\n",
        "3. Одному из студентов не понравились задания, говорит, что неприменимые на практике. Возможно какие-то из них нужно пересмотреть. Сделать задания более жизненными и нужными в быту.\n",
        "4. Есть мнение, что задания скучные. Возможно нужно добавить креатива в тренажер.\n",
        "5. Веганский перец. Такой существует? Будет ли уместно добавить его в курс?\n",
        "\n",
        "Данные вопросы я бы обсудил с авторами курса и затем внёс соответствующие корректировки. "
      ],
      "metadata": {
        "id": "58o0X3AuW3U2"
      }
    },
    {
      "cell_type": "markdown",
      "source": [
        "### 2.2. Тема урока: 'Считаем сковилли вместе' \n",
        "(Курс \"Тестировщик острых блюд\")"
      ],
      "metadata": {
        "id": "7dU6FxpTaL0j"
      }
    },
    {
      "cell_type": "code",
      "source": [
        "skovilli_score = df[(df['topic'] == 'Считаем сковилли вместе') & (df['question'] == 'Оцените, насколько вам понравился урок от 1 до 5')]"
      ],
      "metadata": {
        "id": "I4I2L7IVU9H5"
      },
      "execution_count": 112,
      "outputs": []
    },
    {
      "cell_type": "code",
      "source": [
        "skovilli_score['answer'].value_counts().plot(x='answer', kind='bar', figsize=(10,4))\n",
        "plt.title('Оценка урока \"Считаем сковилли вместе\"\\n', fontsize=15)\n",
        "plt.legend(['Кол-во оценок'],loc='upper right')\n",
        "plt.xticks(rotation = 0)\n",
        "plt.show()"
      ],
      "metadata": {
        "colab": {
          "base_uri": "https://localhost:8080/",
          "height": 301
        },
        "id": "xcCeJZ8-bDSK",
        "outputId": "07293a2f-7d5e-45d9-d14d-bf49be8933d2"
      },
      "execution_count": 113,
      "outputs": [
        {
          "output_type": "display_data",
          "data": {
            "text/plain": [
              "<Figure size 720x288 with 1 Axes>"
            ],
            "image/png": "[encoded data removed]"
          },
          "metadata": {}
        }
      ]
    },
    {
      "cell_type": "markdown",
      "source": [
        "10 студентам из 12 опрошенных урок \"Считаем сковилли вместе\" понравился. Они поставили оценки 4 и 5."
      ],
      "metadata": {
        "id": "k49qByc6bbAx"
      }
    },
    {
      "cell_type": "code",
      "source": [
        "skovilli_feedback = df[(df['topic'] == 'Считаем сковилли вместе') & (df['question'] == 'Здесь вы можете оставить подробный отзыв')]"
      ],
      "metadata": {
        "id": "lvlnNXEqbMTB"
      },
      "execution_count": 114,
      "outputs": []
    },
    {
      "cell_type": "code",
      "source": [
        "skovilli_feedback['answer'].values"
      ],
      "metadata": {
        "colab": {
          "base_uri": "https://localhost:8080/"
        },
        "id": "V3RkaD9ycIaB",
        "outputId": "970e2002-4149-4b8d-dcd7-0513da158df4"
      },
      "execution_count": 115,
      "outputs": [
        {
          "output_type": "execute_result",
          "data": {
            "text/plain": [
              "array(['Что-то я запутался в расчетах, было сложно',\n",
              "       'Без подсказки не разобраться, сложная задачка',\n",
              "       'большое спасибо любимому куратору!',\n",
              "       'Спасибо за дополнительные материалы в конце урока! Вы лучшие!',\n",
              "       'Задачи очень понравились, в меру сложные',\n",
              "       'Задачи вообще не в меру сложные, потратил 4 дня на их решение!',\n",
              "       'Наконец я знаю, как их считать!!)',\n",
              "       'Мне преподаватель хорошо объяснил, как тут надо считать, ему спасибо',\n",
              "       'Пока со стороны новичка все хорошо, проект сдан, а это значит можно двигаться дальше',\n",
              "       'А я все расчеты в калькуляторе делал)))))',\n",
              "       'Насчитал вам 5 баллов за урок! :)',\n",
              "       'Побольше бы примеров расчета, в остальном все круто',\n",
              "       'Ага, ясно-понятно', 'Вроде норм',\n",
              "       'Проходил курс по созданию синхрофазатрона, так вот этот даже лучше! Респект!)'],\n",
              "      dtype=object)"
            ]
          },
          "metadata": {},
          "execution_count": 115
        }
      ]
    },
    {
      "cell_type": "markdown",
      "source": [
        "### Вывод по уроку:\n",
        "\n",
        "Очень много жалоб на сложные задачки и отсутствие необходимых примеров. Нужно сделать на этом акцент. Более подробно разобрать тему в процессе урока, добавить примеров. Возможно реализовать какие-либо подсказки если студент не справляется.\n"
      ],
      "metadata": {
        "id": "b4VafS3xcPKO"
      }
    },
    {
      "cell_type": "markdown",
      "source": [
        "### 2.3. Тема урока: 'Билет номер семь. Первый вопрос. Принцип работы синхрофазотрона.' \n",
        "(Курс \"Инженер по созданию синхрофазотрона\")"
      ],
      "metadata": {
        "id": "8ryJr5J6eF4v"
      }
    },
    {
      "cell_type": "code",
      "source": [
        "ticket7_score = df[(df['topic'] == 'Билет номер семь. Первый вопрос. Принцип работы синхрофазотрона.') & (\n",
        "    df['question'] == 'Оцените, насколько вам понравился урок от 1 до 5')]"
      ],
      "metadata": {
        "id": "v1UaDWi7d-mb"
      },
      "execution_count": 116,
      "outputs": []
    },
    {
      "cell_type": "code",
      "source": [
        "ticket7_score['answer'].value_counts().plot(x='answer', kind='bar', figsize=(10,4))\n",
        "plt.title('Оценка урока \"Билет номер семь. Первый вопрос. Принцип работы синхрофазотрона.\"\\n', fontsize=15)\n",
        "plt.legend(['Кол-во оценок'],loc='upper right')\n",
        "plt.xticks(rotation = 0)\n",
        "plt.show()"
      ],
      "metadata": {
        "colab": {
          "base_uri": "https://localhost:8080/",
          "height": 302
        },
        "id": "UKs73O29eqEm",
        "outputId": "926d70b9-c3b0-41ad-9efe-c4fa391ccb44"
      },
      "execution_count": 117,
      "outputs": [
        {
          "output_type": "display_data",
          "data": {
            "text/plain": [
              "<Figure size 720x288 with 1 Axes>"
            ],
            "image/png": "[encoded data removed]"
          },
          "metadata": {}
        }
      ]
    },
    {
      "cell_type": "markdown",
      "source": [
        "9-ти из 10-ти студентов урок \"Билет номер семь. Первый вопрос. Принцип работы синхрофазотрона.\" понравился. Я считаю это хорошей оценкой."
      ],
      "metadata": {
        "id": "-Sl3XIe-foC9"
      }
    },
    {
      "cell_type": "code",
      "source": [
        "ticket7_feedback = df[(df['topic'] == 'Билет номер семь. Первый вопрос. Принцип работы синхрофазотрона.') & (\n",
        "    df['question'] == 'Здесь вы можете оставить подробный отзыв')]"
      ],
      "metadata": {
        "id": "_OwOcSf2fjc5"
      },
      "execution_count": 118,
      "outputs": []
    },
    {
      "cell_type": "code",
      "source": [
        "ticket7_feedback['answer'].values"
      ],
      "metadata": {
        "colab": {
          "base_uri": "https://localhost:8080/"
        },
        "id": "Gh2t3silgO8P",
        "outputId": "b0ff1139-0528-4600-da92-13bc06d98607"
      },
      "execution_count": 119,
      "outputs": [
        {
          "output_type": "execute_result",
          "data": {
            "text/plain": [
              "array(['Очень много теории, я запутался, и боюсь не понять отсылку к \"Операции Ы\"',\n",
              "       'Материал супер! Второй раз точно отвечу',\n",
              "       'Иллюстрации к уроку очень понравились',\n",
              "       'Это лучше прошлого урока, но хуже следующего',\n",
              "       'В 5-ом абзаце, 2-ом предложении не хватает запятой..',\n",
              "       'всем привет))',\n",
              "       'Тренажер у вас какой-то глючный, принимает только правильное решение…',\n",
              "       'Обожаю ребят из команды фидбэка, вы лучшие!',\n",
              "       'Материал по теме дан немного непонятно, недоступно. В теории указано, что нужен квантовый ускоритель, а в задачах говорится про протонный. ',\n",
              "       'После этого урока меня точно инжереном-джуном возьмут!',\n",
              "       'Тренажёр отличный ',\n",
              "       'Настолько понятный урок, что у меня пучок частиц пришел в ускоряющую секцию в фазе с высокочастотным электрическим полем всего за 0.3 наносек!!'],\n",
              "      dtype=object)"
            ]
          },
          "metadata": {},
          "execution_count": 119
        }
      ]
    },
    {
      "cell_type": "markdown",
      "source": [
        "### Вывод по уроку:\n",
        "\n",
        "Есть жалобы на непонятность материала в теории и высокую сложность. Мне кажется следует обратить внимание на более доступную подачу информации. Какие то моменты нужно \"разжевать\" для студента, что бы понимание пришло."
      ],
      "metadata": {
        "id": "N23nQcFLg6Pf"
      }
    },
    {
      "cell_type": "markdown",
      "source": [
        "### 2.4. Тема урока: 'СинхрофазаЧТО?' \n",
        "(Курс \"Инженер по созданию синхрофазотрона\")"
      ],
      "metadata": {
        "id": "eKUH949DhuGa"
      }
    },
    {
      "cell_type": "code",
      "source": [
        "synchrophasa_score = df[(df['topic'] == 'СинхрофазаЧТО?') & (df['question'] == 'Оцените, насколько вам понравился урок от 1 до 5')]"
      ],
      "metadata": {
        "id": "-svbhGNTgT9s"
      },
      "execution_count": 120,
      "outputs": []
    },
    {
      "cell_type": "code",
      "source": [
        "synchrophasa_score['answer'].value_counts().plot(x='answer', kind='bar', figsize=(10,4))\n",
        "plt.title('СинхрофазаЧТО?\"\\n', fontsize=15)\n",
        "plt.legend(['Кол-во оценок'],loc='upper right')\n",
        "plt.xticks(rotation = 0)\n",
        "plt.show()"
      ],
      "metadata": {
        "colab": {
          "base_uri": "https://localhost:8080/",
          "height": 301
        },
        "id": "ieQl4EdTiSTA",
        "outputId": "1620d4ac-8fb9-493d-f928-1fb0e5304683"
      },
      "execution_count": 121,
      "outputs": [
        {
          "output_type": "display_data",
          "data": {
            "text/plain": [
              "<Figure size 720x288 with 1 Axes>"
            ],
            "image/png": "[encoded data removed]"
          },
          "metadata": {}
        }
      ]
    },
    {
      "cell_type": "markdown",
      "source": [
        "Половине студентов урок не понравился, они поставили оценки ниже 2. Это тревожный звоночек. Давайте разбираться, что с уроком не так."
      ],
      "metadata": {
        "id": "jFKoh38LipCQ"
      }
    },
    {
      "cell_type": "code",
      "source": [
        "synchrophasa_feedback = df[(df['topic'] == 'СинхрофазаЧТО?') & (df['question'] == 'Здесь вы можете оставить подробный отзыв')]"
      ],
      "metadata": {
        "id": "tdhbnv06idKm"
      },
      "execution_count": 122,
      "outputs": []
    },
    {
      "cell_type": "code",
      "source": [
        "synchrophasa_feedback['answer'].values"
      ],
      "metadata": {
        "colab": {
          "base_uri": "https://localhost:8080/"
        },
        "id": "ymR84ri6jPq1",
        "outputId": "1670a515-3646-45d1-c2a6-4da8b6530c1d"
      },
      "execution_count": 123,
      "outputs": [
        {
          "output_type": "execute_result",
          "data": {
            "text/plain": [
              "array(['Долго не понимал, как же правильно. В итоге теперь знаю!)',\n",
              "       'Побольше бы задачек на эту тему, чтобы лучше усвоить',\n",
              "       'Пытался проходить урок с микроволновки, но ваш сайт для этого совершенно не адаптирован! Исправьте!',\n",
              "       'Написано, что на урок тратится 15 мин, а я прошел за 18! Прошу исправить!',\n",
              "       'Задачки разнообразные, понравилось',\n",
              "       'Очень бы хотелось видео-лекцию на эту тему!',\n",
              "       'Как жаль, что урок закончился! ',\n",
              "       'Круто, что освежили в памяти эту тему'], dtype=object)"
            ]
          },
          "metadata": {},
          "execution_count": 123
        }
      ]
    },
    {
      "cell_type": "markdown",
      "source": [
        "### Вывод по уроку:\n",
        "\n",
        "1. Нужно добавить задачек на данную тему.\n",
        "2. Рассмотреть вариант адаптации сайта для микроволновки. Чтобы он с неё так же работал.\n",
        "3. Проверить среднее время прохождения урока. Есть жалобы на несоответствие.\n",
        "4. Рассмотреть возможность добавления видео-лекции. Если это уместно."
      ],
      "metadata": {
        "id": "mQLmwX9Njv72"
      }
    }
  ]
}